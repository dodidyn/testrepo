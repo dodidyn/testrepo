{
 "cells": [
  {
   "cell_type": "markdown",
   "id": "9e712164-668b-4e94-918d-1bf8ad7964ce",
   "metadata": {},
   "source": [
    "# Data Science Tools and Ecosystem"
   ]
  },
  {
   "cell_type": "markdown",
   "id": "79fb8501-1920-49a8-b4df-2a07db693601",
   "metadata": {},
   "source": [
    "In this notebook, Data Science Tools and Ecosystem are summarized."
   ]
  },
  {
   "cell_type": "markdown",
   "id": "fe151c53-8b27-4cde-aad4-e4da99f05ec4",
   "metadata": {},
   "source": [
    "**Objectives:**\n",
    "* List of popular languages in Data Science\n",
    "* List of libraries used by Data Scientists\n",
    "* List of Open Source Development Environment in Data Science"
   ]
  },
  {
   "cell_type": "markdown",
   "id": "e76aa8e5-3120-4086-b90e-0c32cc177844",
   "metadata": {},
   "source": [
    "Some of the popular languages that Data Scientists use are:\n",
    "1. Python\n",
    "2. R\n",
    "3. Julia"
   ]
  },
  {
   "cell_type": "markdown",
   "id": "a068d27e-c388-49cc-970d-13fb8c6e1a32",
   "metadata": {},
   "source": [
    "Some of the commonly used libaries used by Data Scientists include:\n",
    "1. NumPy\n",
    "2. Matplotlib\n",
    "3. TensorFlow"
   ]
  },
  {
   "cell_type": "markdown",
   "id": "8f52bdcc-8819-470c-ac07-7f4ca9aad3d5",
   "metadata": {},
   "source": [
    "|Data Science Tools|\n",
    "|:---:|\n",
    "VS Code\n",
    "RStudio\n",
    "Jupyter Notebook\n"
   ]
  },
  {
   "cell_type": "markdown",
   "id": "b554accf-3fd8-4daa-9512-6cf77879f225",
   "metadata": {},
   "source": [
    "### Below are a few examples of evaluating arithmetic expression in Python"
   ]
  },
  {
   "cell_type": "code",
   "execution_count": 2,
   "id": "2f8014d6-791e-4a18-94ef-8caca44e0e77",
   "metadata": {},
   "outputs": [
    {
     "data": {
      "text/plain": [
       "17"
      ]
     },
     "execution_count": 2,
     "metadata": {},
     "output_type": "execute_result"
    }
   ],
   "source": [
    "# This is a simple arithmetic expression \n",
    "(3*4)+5"
   ]
  },
  {
   "cell_type": "code",
   "execution_count": 4,
   "id": "d47912db-26bf-4ed5-a7b9-9ee46c14e180",
   "metadata": {},
   "outputs": [
    {
     "data": {
      "text/plain": [
       "3.3333333333333335"
      ]
     },
     "execution_count": 4,
     "metadata": {},
     "output_type": "execute_result"
    }
   ],
   "source": [
    "# This will convert 200 minutes to hours\n",
    "200/60"
   ]
  },
  {
   "cell_type": "markdown",
   "id": "be027816-a303-4e4e-b501-63a478e3e7e8",
   "metadata": {},
   "source": [
    "## Author\n",
    "\n",
    "Dodi Darsiyan"
   ]
  }
 ],
 "metadata": {
  "kernelspec": {
   "display_name": "Python 3 (ipykernel)",
   "language": "python",
   "name": "python3"
  },
  "language_info": {
   "codemirror_mode": {
    "name": "ipython",
    "version": 3
   },
   "file_extension": ".py",
   "mimetype": "text/x-python",
   "name": "python",
   "nbconvert_exporter": "python",
   "pygments_lexer": "ipython3",
   "version": "3.13.5"
  }
 },
 "nbformat": 4,
 "nbformat_minor": 5
}
